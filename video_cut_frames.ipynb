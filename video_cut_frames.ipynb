{
 "cells": [
  {
   "cell_type": "code",
   "execution_count": 1,
   "metadata": {},
   "outputs": [
    {
     "name": "stdout",
     "output_type": "stream",
     "text": [
      "🔄 正在處理影片，請稍候...\n",
      "✅ 新影片 E:/論文/期刊/code/240fps/new_test_240fps.mp4 產生成功，共 240 影格.\n"
     ]
    }
   ],
   "source": [
    "import cv2\n",
    "import numpy as np\n",
    "\n",
    "def extract_fixed_frames_no_seek(input_video, output_video, target_frames=240):\n",
    "    # 讀取影片\n",
    "    cap = cv2.VideoCapture(input_video)\n",
    "\n",
    "    # 確保影片能夠正確開啟\n",
    "    if not cap.isOpened():\n",
    "        print(\"Error: 無法開啟影片\")\n",
    "        return\n",
    "    \n",
    "    # 取得影片基本資訊\n",
    "    total_frames = int(cap.get(cv2.CAP_PROP_FRAME_COUNT))\n",
    "    frame_width = int(cap.get(cv2.CAP_PROP_FRAME_WIDTH))\n",
    "    frame_height = int(cap.get(cv2.CAP_PROP_FRAME_HEIGHT))\n",
    "    fps = cap.get(cv2.CAP_PROP_FPS)  # 保留原影片 FPS\n",
    "    \n",
    "    # 確保 target_frames 不超過實際總影格數\n",
    "    target_frames = min(target_frames, total_frames)\n",
    "    \n",
    "    # 計算取樣間隔 (固定間距取影格)\n",
    "    sample_interval = total_frames / target_frames\n",
    "    \n",
    "    # 設定影片輸出格式\n",
    "    fourcc = cv2.VideoWriter_fourcc(*'mp4v')\n",
    "    out = cv2.VideoWriter(output_video, fourcc, fps, (frame_width, frame_height))\n",
    "\n",
    "    # 影格處理\n",
    "    frame_idx = 0  # 當前影格索引\n",
    "    target_idx = 0  # 目標影格計數\n",
    "\n",
    "    print(\"🔄 正在處理影片，請稍候...\")\n",
    "\n",
    "    while cap.isOpened():\n",
    "        ret, frame = cap.read()\n",
    "        if not ret:\n",
    "            break\n",
    "\n",
    "        # 只保留等間隔影格\n",
    "        if frame_idx >= target_idx * sample_interval:\n",
    "            out.write(frame)\n",
    "            target_idx += 1\n",
    "\n",
    "        # 停止條件：如果已經取滿 240 影格，則結束\n",
    "        if target_idx >= target_frames:\n",
    "            break\n",
    "        \n",
    "        frame_idx += 1\n",
    "\n",
    "    # 釋放資源\n",
    "    cap.release()\n",
    "    out.release()\n",
    "    print(f\"✅ 新影片 {output_video} 產生成功，共 {target_idx} 影格.\")\n",
    "\n",
    "\n",
    "# 測試程式\n",
    "extract_fixed_frames_no_seek(r'E:\\論文\\期刊\\code\\images\\new_test.mp4', 'E:/論文/期刊/code/240fps/new_test_240fps.mp4', target_frames=240)\n"
   ]
  }
 ],
 "metadata": {
  "kernelspec": {
   "display_name": "aerial_image_proccess",
   "language": "python",
   "name": "python3"
  },
  "language_info": {
   "codemirror_mode": {
    "name": "ipython",
    "version": 3
   },
   "file_extension": ".py",
   "mimetype": "text/x-python",
   "name": "python",
   "nbconvert_exporter": "python",
   "pygments_lexer": "ipython3",
   "version": "3.10.16"
  }
 },
 "nbformat": 4,
 "nbformat_minor": 2
}
